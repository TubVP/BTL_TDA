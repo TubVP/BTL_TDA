{
 "cells": [
  {
   "cell_type": "code",
   "execution_count": null,
   "metadata": {},
   "outputs": [],
   "source": [
    "import pandas as pd\n",
    "\n",
    "# Danh sách các file\n",
    "files = ['diem_thi_2020.csv', 'diem_thi_2021.csv', 'diem_thi_2022.csv', 'diem_thi_2023.csv', 'diem_thi_2024.csv']\n",
    "\n",
    "# Hàm chuẩn hóa tên cột\n",
    "def standardize_columns(df):\n",
    "    column_mapping = {\n",
    "        'Toán': 'Toán', 'Lý': 'Lý', 'Hoá': 'Hoá', 'Sinh': 'Sinh',\n",
    "        'Văn': 'Văn', 'Lịch Sử': 'Sử', 'Địa Lý': 'Địa', 'GDCD': 'GDCD', 'Ngoại Ngữ': 'Ngoại Ngữ',\n",
    "        'toan': 'Toán', 'ly': 'Lý', 'hoa': 'Hoá', 'sinh': 'Sinh',\n",
    "        'van': 'Văn', 'lich_su': 'Sử', 'dia_ly': 'Địa', 'gdcd': 'GDCD', 'ngoai_ngu': 'Ngoại Ngữ'\n",
    "    }\n",
    "    df = df.rename(columns=column_mapping)\n",
    "    return df\n",
    "\n",
    "# Hàm phân loại Tự nhiên và Xã hội\n",
    "def classify(row):\n",
    "    natural_subjects = ['Toán', 'Lý', 'Hoá', 'Sinh']\n",
    "    social_subjects = ['Văn', 'Sử', 'Địa', 'GDCD']\n",
    "    natural_score = any([row[subject] for subject in natural_subjects if pd.notna(row[subject])])\n",
    "    social_score = any([row[subject] for subject in social_subjects if pd.notna(row[subject])])\n",
    "    \n",
    "    if natural_score:\n",
    "        return 'Tự nhiên'\n",
    "    elif social_score:\n",
    "        return 'Xã hội'\n",
    "    else:\n",
    "        return 'Không phân loại'\n",
    "\n",
    "# Xử lý từng file\n",
    "for file in files:\n",
    "    # Đọc file\n",
    "    df = pd.read_csv(file)\n",
    "    \n",
    "    # Chuẩn hóa tên cột\n",
    "    df = standardize_columns(df)\n",
    "    \n",
    "    # Áp dụng phân loại và thêm cột 'to_hop' cho thí sinh thi lần đầu\n",
    "    df['to_hop'] = df.apply(lambda row: classify(row) if row['phan_loai'] == 'thi lan dau' else None, axis=1)\n",
    "    \n",
    "    # Lưu lại vào một file mới hoặc hiển thị\n",
    "    output_file = file.replace('.csv', '_with_to_hop.csv')\n",
    "    df.to_csv(output_file, index=False)\n",
    "    print(f\"Đã lưu dữ liệu có cột 'to_hop' vào file {output_file}\")\n",
    "\n"
   ]
  },
  {
   "cell_type": "code",
   "execution_count": 7,
   "metadata": {},
   "outputs": [
    {
     "name": "stdout",
     "output_type": "stream",
     "text": [
      "File đã được xóa thành công.\n",
      "File đã được xóa thành công.\n",
      "File đã được xóa thành công.\n",
      "File đã được xóa thành công.\n",
      "File đã được xóa thành công.\n"
     ]
    }
   ],
   "source": [
    "import pandas\n",
    "import os\n",
    "files = ['diem_thi_2020_with_to_hop.csv', 'diem_thi_2021_with_to_hop.csv', 'diem_thi_2022_with_to_hop.csv', 'diem_thi_2023_with_to_hop.csv', 'diem_thi_2024_with_to_hop.csv']\n",
    "for file in files:\n",
    "    if os.path.exists(file):\n",
    "     os.remove(file)\n",
    "     print(\"File đã được xóa thành công.\")\n"
   ]
  },
  {
   "cell_type": "code",
   "execution_count": 9,
   "metadata": {},
   "outputs": [
    {
     "name": "stdout",
     "output_type": "stream",
     "text": [
      "Đã lưu dữ liệu có cột 'to_hop' vào file diem_thi_2020_with_to_hop.csv\n",
      "Đã lưu dữ liệu có cột 'to_hop' vào file diem_thi_2021_with_to_hop.csv\n",
      "Đã lưu dữ liệu có cột 'to_hop' vào file diem_thi_2022_with_to_hop.csv\n",
      "Đã lưu dữ liệu có cột 'to_hop' vào file diem_thi_2023_with_to_hop.csv\n",
      "Đã lưu dữ liệu có cột 'to_hop' vào file diem_thi_2024_with_to_hop.csv\n"
     ]
    }
   ],
   "source": [
    "import pandas as pd\n",
    "\n",
    "# Danh sách các file\n",
    "files = ['diem_thi_2020.csv', 'diem_thi_2021.csv', 'diem_thi_2022.csv', 'diem_thi_2023.csv', 'diem_thi_2024.csv']\n",
    "\n",
    "# Hàm chuẩn hóa tên cột\n",
    "def standardize_columns(df):\n",
    "    column_mapping = {\n",
    "        'Toán': 'Toán', 'Lý': 'Lý', 'Hoá': 'Hoá', 'Sinh': 'Sinh',\n",
    "        'Văn': 'Văn', 'Lịch Sử': 'Sử', 'Địa Lý': 'Địa', 'GDCD': 'GDCD', 'Ngoại Ngữ': 'Ngoại Ngữ',\n",
    "        'toan': 'Toán', 'vat_li': 'Lý', 'hoa_hoc': 'Hoá', 'sinh_hoc': 'Sinh',\n",
    "        'ngu_van': 'Văn', 'lich_su': 'Sử', 'dia_li': 'Địa', 'gdcd': 'GDCD', 'ngoai_ngu': 'Ngoại Ngữ'\n",
    "    }\n",
    "    df = df.rename(columns=column_mapping)\n",
    "    return df\n",
    "\n",
    "# Hàm phân loại Tự nhiên và Xã hội\n",
    "def classify(row):\n",
    "    # Các môn Tự nhiên và Xã hội\n",
    "    natural_subjects = ['Lý', 'Hoá', 'Sinh']\n",
    "    social_subjects = ['Sử', 'Địa', 'GDCD']\n",
    "    \n",
    "    # Kiểm tra điểm của các môn Tự nhiên và Xã hội\n",
    "    has_natural = any([pd.notna(row[subject]) and row[subject] > 0 for subject in natural_subjects])\n",
    "    has_social = any([pd.notna(row[subject]) and row[subject] > 0 for subject in social_subjects])\n",
    "    \n",
    "    # Phân loại dựa trên các môn thi có điểm\n",
    "    if has_natural and not has_social:\n",
    "        return 'Tự nhiên'\n",
    "    elif has_social and not has_natural:\n",
    "        return 'Xã hội'\n",
    "    else:\n",
    "        return 'Không phân loại'\n",
    "\n",
    "# Xử lý từng file\n",
    "for file in files:\n",
    "    try:\n",
    "        # Đọc file\n",
    "        df = pd.read_csv(file)\n",
    "        \n",
    "        # Kiểm tra cột 'phan_loai'\n",
    "        if 'phan_loai' not in df.columns:\n",
    "            print(f\"File {file} không có cột 'phan_loai'. Bỏ qua file này.\")\n",
    "            continue\n",
    "        \n",
    "        # Chuẩn hóa tên cột  \n",
    "        df = standardize_columns(df)\n",
    "      \n",
    "        # Áp dụng phân loại và thêm cột 'to_hop' cho thí sinh thi lần đầu\n",
    "        df['to_hop'] = df.apply(lambda row: classify(row) if row['phan_loai'] == 'thi lan dau' else None, axis=1)\n",
    "        \n",
    "        # Lưu lại vào một file mới hoặc hiển thị\n",
    "        output_file = file.replace('.csv', '_with_to_hop.csv')\n",
    "        df.to_csv(output_file, index=False)\n",
    "        print(f\"Đã lưu dữ liệu có cột 'to_hop' vào file {output_file}\")\n",
    "    except Exception as e:\n",
    "        print(f\"Đã xảy ra lỗi khi xử lý file {file}: {e}\")\n"
   ]
  }
 ],
 "metadata": {
  "kernelspec": {
   "display_name": "Python 3",
   "language": "python",
   "name": "python3"
  },
  "language_info": {
   "codemirror_mode": {
    "name": "ipython",
    "version": 3
   },
   "file_extension": ".py",
   "mimetype": "text/x-python",
   "name": "python",
   "nbconvert_exporter": "python",
   "pygments_lexer": "ipython3",
   "version": "3.13.0"
  }
 },
 "nbformat": 4,
 "nbformat_minor": 2
}
